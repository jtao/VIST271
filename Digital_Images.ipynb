{
  "nbformat": 4,
  "nbformat_minor": 0,
  "metadata": {
    "colab": {
      "name": "Digital_Images.ipynb",
      "provenance": [],
      "collapsed_sections": []
    },
    "kernelspec": {
      "name": "python3",
      "display_name": "Python 3"
    },
    "language_info": {
      "name": "python"
    }
  },
  "cells": [
    {
      "cell_type": "markdown",
      "source": [
        "# Matrices and Digital Images\n",
        "\n",
        "Jian Tao, Texas A&M University\n",
        "\n",
        "Feb 9, 2022"
      ],
      "metadata": {
        "id": "NMWzxLu8x_GW"
      }
    },
    {
      "cell_type": "code",
      "source": [
        "vizlogo_path = \"https://github.com/jtao/VIST271/raw/main/images/viz_logo.png\"\n",
        "vizlogo = \"viz_logo.png\""
      ],
      "metadata": {
        "id": "x_awOit5x2CC"
      },
      "execution_count": null,
      "outputs": []
    },
    {
      "cell_type": "markdown",
      "source": [
        "# Read Image\n",
        "\n",
        "We first download an image from a URL and then open it with the Image.open function in PIL."
      ],
      "metadata": {
        "id": "U3gZ1zqRyXmp"
      }
    },
    {
      "cell_type": "code",
      "source": [
        "from PIL import Image, ImageFilter, ImageDraw, ImageFont, ImageOps\n",
        "import numpy as np"
      ],
      "metadata": {
        "id": "NSGF5ASHxI0i"
      },
      "execution_count": null,
      "outputs": []
    },
    {
      "cell_type": "code",
      "source": [
        "import urllib.request\n",
        "from PIL import Image\n",
        "urllib.request.urlretrieve(vizlogo_path, vizlogo)\n",
        "viz = Image.open(vizlogo)\n",
        "viz"
      ],
      "metadata": {
        "id": "eo7aIDv6ydQa"
      },
      "execution_count": null,
      "outputs": []
    },
    {
      "cell_type": "code",
      "source": [
        "viz.size"
      ],
      "metadata": {
        "id": "Gu3VMqd9ynfJ"
      },
      "execution_count": null,
      "outputs": []
    },
    {
      "cell_type": "markdown",
      "source": [
        "PNG images usually have four channels. Three color channels for red, green and blue, and the fourth channel is for transparency."
      ],
      "metadata": {
        "id": "wNnEp3BrzmWX"
      }
    },
    {
      "cell_type": "code",
      "source": [
        "viz.mode"
      ],
      "metadata": {
        "id": "eKTGklOpy1is"
      },
      "execution_count": null,
      "outputs": []
    },
    {
      "cell_type": "code",
      "source": [
        "viz.info"
      ],
      "metadata": {
        "id": "7etQLSmIy2n8"
      },
      "execution_count": null,
      "outputs": []
    },
    {
      "cell_type": "markdown",
      "source": [
        "Let's convert it into a grayscale image so that we only need to deal with one channel."
      ],
      "metadata": {
        "id": "qw7oqQiz3qFC"
      }
    },
    {
      "cell_type": "code",
      "source": [
        "viz = ImageOps.invert(viz.convert('L'))"
      ],
      "metadata": {
        "id": "Dg_mhig2y3_k"
      },
      "execution_count": null,
      "outputs": []
    },
    {
      "cell_type": "code",
      "source": [
        "viz.mode"
      ],
      "metadata": {
        "id": "CdRRhevL3zNk"
      },
      "execution_count": null,
      "outputs": []
    },
    {
      "cell_type": "markdown",
      "source": [
        "Let's make the image very small so that we could print out the grayscale values of each pixel and compare those against the original image."
      ],
      "metadata": {
        "id": "46cezJki38Gj"
      }
    },
    {
      "cell_type": "code",
      "source": [
        "viz = viz.resize((round(viz.size[0]*0.05), round(viz.size[1]*0.05)))"
      ],
      "metadata": {
        "id": "olcJlAV2y6yK"
      },
      "execution_count": null,
      "outputs": []
    },
    {
      "cell_type": "code",
      "source": [
        "viz"
      ],
      "metadata": {
        "id": "xvPukyFWzAkK"
      },
      "execution_count": null,
      "outputs": []
    },
    {
      "cell_type": "code",
      "source": [
        "viz_mat= np.asarray(viz)"
      ],
      "metadata": {
        "id": "bUeNsOZJ2miR"
      },
      "execution_count": null,
      "outputs": []
    },
    {
      "cell_type": "code",
      "source": [
        "viz_mat.shape"
      ],
      "metadata": {
        "id": "uodCacDt2qKe"
      },
      "execution_count": null,
      "outputs": []
    },
    {
      "cell_type": "code",
      "source": [
        "print(viz_mat-255)"
      ],
      "metadata": {
        "id": "injT7S7z2tTc"
      },
      "execution_count": null,
      "outputs": []
    },
    {
      "cell_type": "markdown",
      "source": [
        "What happens when we resize it back?"
      ],
      "metadata": {
        "id": "zG1MiQzD5Xra"
      }
    },
    {
      "cell_type": "code",
      "source": [
        "viz = viz.resize((round(viz.size[0]*20), round(viz.size[1]*20)))\n",
        "viz"
      ],
      "metadata": {
        "id": "cnyYuvfx4rDg"
      },
      "execution_count": null,
      "outputs": []
    },
    {
      "cell_type": "markdown",
      "source": [
        "Let's reload the image and convert it into grayscale for more operations."
      ],
      "metadata": {
        "id": "YZRJ9fVK5pAG"
      }
    },
    {
      "cell_type": "code",
      "source": [
        "viz = Image.open(vizlogo)\n",
        "viz = ImageOps.invert(viz.convert('L'))\n",
        "viz"
      ],
      "metadata": {
        "id": "_UdIaDlm5La4"
      },
      "execution_count": null,
      "outputs": []
    },
    {
      "cell_type": "code",
      "source": [
        "viz.size"
      ],
      "metadata": {
        "id": "uG2oNmkI-sOp"
      },
      "execution_count": null,
      "outputs": []
    },
    {
      "cell_type": "code",
      "source": [
        "viz_mat = np.asarray(viz)"
      ],
      "metadata": {
        "id": "mFfp8Yc_5n9U"
      },
      "execution_count": null,
      "outputs": []
    },
    {
      "cell_type": "code",
      "source": [
        "viz_mat.shape"
      ],
      "metadata": {
        "id": "quOmSuLy53Nc"
      },
      "execution_count": null,
      "outputs": []
    },
    {
      "cell_type": "markdown",
      "source": [
        "Let's make sure that we can directly plot the array with the PIL library."
      ],
      "metadata": {
        "id": "FaYuDgvn6Jud"
      }
    },
    {
      "cell_type": "code",
      "source": [
        "Image.fromarray(viz_mat)"
      ],
      "metadata": {
        "id": "Fe4fgxc753sL"
      },
      "execution_count": null,
      "outputs": []
    },
    {
      "cell_type": "code",
      "source": [
        "owl_path = \"https://github.com/jtao/VIST271/raw/main/images/owl.jpg\"\n",
        "owlimage = \"owl.jpg\""
      ],
      "metadata": {
        "id": "fLs66hCf6Em8"
      },
      "execution_count": null,
      "outputs": []
    },
    {
      "cell_type": "code",
      "source": [
        "urllib.request.urlretrieve(owl_path,owlimage)\n",
        "owl = Image.open(owlimage).convert('L').resize((300, 244))"
      ],
      "metadata": {
        "id": "DKPUFxya7pS1"
      },
      "execution_count": null,
      "outputs": []
    },
    {
      "cell_type": "code",
      "source": [
        "owl_mat = np.asarray(owl)"
      ],
      "metadata": {
        "id": "MWuhfJhB7uej"
      },
      "execution_count": null,
      "outputs": []
    },
    {
      "cell_type": "code",
      "source": [
        "owl_mat.shape"
      ],
      "metadata": {
        "id": "JPufAl-h9fz9"
      },
      "execution_count": null,
      "outputs": []
    },
    {
      "cell_type": "code",
      "source": [
        "mym = (viz_mat) + owl_mat\n",
        "Image.fromarray(np.uint8(mym))"
      ],
      "metadata": {
        "id": "jFJLp4XJDxQA"
      },
      "execution_count": null,
      "outputs": []
    },
    {
      "cell_type": "code",
      "source": [
        "mym = 0.9*(viz_mat) + 0.1*owl_mat\n",
        "Image.fromarray(np.uint8(mym))"
      ],
      "metadata": {
        "id": "iyMgp8Ds_KlV"
      },
      "execution_count": null,
      "outputs": []
    },
    {
      "cell_type": "code",
      "source": [
        "mym = viz_mat - owl_mat\n",
        "Image.fromarray(np.uint8(mym))"
      ],
      "metadata": {
        "id": "zRsI7ZnOBDl9"
      },
      "execution_count": null,
      "outputs": []
    }
  ]
}