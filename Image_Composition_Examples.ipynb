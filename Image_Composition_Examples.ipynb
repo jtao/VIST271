{
  "nbformat": 4,
  "nbformat_minor": 0,
  "metadata": {
    "colab": {
      "name": "Image_Composition_Examples.ipynb",
      "provenance": [],
      "collapsed_sections": [],
      "include_colab_link": true
    },
    "kernelspec": {
      "name": "python3",
      "display_name": "Python 3"
    },
    "language_info": {
      "name": "python"
    }
  },
  "cells": [
    {
      "cell_type": "markdown",
      "metadata": {
        "id": "view-in-github",
        "colab_type": "text"
      },
      "source": [
        "<a href=\"https://colab.research.google.com/github/jtao/VIST271/blob/main/Image_Composition_Examples.ipynb\" target=\"_parent\"><img src=\"https://colab.research.google.com/assets/colab-badge.svg\" alt=\"Open In Colab\"/></a>"
      ]
    },
    {
      "cell_type": "markdown",
      "source": [
        "# Image Composition Examples\n",
        "\n",
        "Jian Tao, Texas A&M University\n",
        "\n",
        "Feb 24, 2022\n",
        "\n",
        "The later part of this Jupyter notebook on COCO Data Set is based on the example at [virafpatrawala/Synthetic-Image-Datasets](https://github.com/virafpatrawala/Synthetic-Image-Datasets/blob/master/SyntheticImageData_ImageComposition_Demo.ipynb).\n"
      ],
      "metadata": {
        "id": "NMWzxLu8x_GW"
      }
    },
    {
      "cell_type": "code",
      "source": [
        "cat_path = \"https://github.com/jtao/VIST271/raw/main/images/cat.png\"\n",
        "cat_file = \"cat.png\""
      ],
      "metadata": {
        "id": "x_awOit5x2CC"
      },
      "execution_count": null,
      "outputs": []
    },
    {
      "cell_type": "code",
      "source": [
        "oak_path = \"https://github.com/jtao/VIST271/raw/main/images/post_oak.jpg\"\n",
        "oak_file = \"post_oak.jpg\""
      ],
      "metadata": {
        "id": "b1WICvjYdGz0"
      },
      "execution_count": null,
      "outputs": []
    },
    {
      "cell_type": "markdown",
      "source": [
        "# Read Image\n",
        "\n",
        "We first download an image from a URL and then open it with the Image.open function in PIL."
      ],
      "metadata": {
        "id": "U3gZ1zqRyXmp"
      }
    },
    {
      "cell_type": "code",
      "source": [
        "from PIL import Image, ImageFilter, ImageDraw, ImageFont, ImageOps\n",
        "import numpy as np\n",
        "import skimage.io as io\n",
        "from matplotlib import pyplot as plt"
      ],
      "metadata": {
        "id": "NSGF5ASHxI0i"
      },
      "execution_count": null,
      "outputs": []
    },
    {
      "cell_type": "code",
      "source": [
        "import urllib.request\n",
        "from PIL import Image\n",
        "urllib.request.urlretrieve(cat_path, cat_file)\n",
        "cat = Image.open(cat_file)\n",
        "cat"
      ],
      "metadata": {
        "id": "eo7aIDv6ydQa"
      },
      "execution_count": null,
      "outputs": []
    },
    {
      "cell_type": "code",
      "source": [
        "cat.size"
      ],
      "metadata": {
        "id": "Gu3VMqd9ynfJ"
      },
      "execution_count": null,
      "outputs": []
    },
    {
      "cell_type": "markdown",
      "source": [
        "PNG images usually have four channels. Three color channels for red, green and blue, and the fourth channel is for transparency."
      ],
      "metadata": {
        "id": "wNnEp3BrzmWX"
      }
    },
    {
      "cell_type": "code",
      "source": [
        "cat.mode"
      ],
      "metadata": {
        "id": "eKTGklOpy1is"
      },
      "execution_count": null,
      "outputs": []
    },
    {
      "cell_type": "code",
      "source": [
        "cat.info"
      ],
      "metadata": {
        "id": "7etQLSmIy2n8"
      },
      "execution_count": null,
      "outputs": []
    },
    {
      "cell_type": "code",
      "source": [
        "from PIL import ImageEnhance\n",
        "def change_opacity(image, opacity):\n",
        "  if opacity < 0 and opacity > 1:\n",
        "    print (\"opacity value must be between 0 and 1!\")\n",
        "    return\n",
        "  if image.mode != 'RGBA':\n",
        "      image = image.convert('RGBA')\n",
        "  else:\n",
        "      image = image.copy()\n",
        "  alpha = image.split()[3]\n",
        "  alpha = ImageEnhance.Brightness(alpha).enhance(opacity)\n",
        "  image.putalpha(alpha)\n",
        "  return image"
      ],
      "metadata": {
        "id": "Csf320mIOulv"
      },
      "execution_count": null,
      "outputs": []
    },
    {
      "cell_type": "code",
      "source": [
        "def image_grid(imgs, rows, cols):\n",
        "  if len(imgs) != rows*cols:\n",
        "    print (\"number of images must be equal to rows * cols!\")\n",
        "    return\n",
        "  w, h = imgs[0].size\n",
        "  grid = Image.new('RGBA', size=(cols*w, rows*h))\n",
        "  grid_w, grid_h = grid.size\n",
        "    \n",
        "  for i, img in enumerate(imgs):\n",
        "    grid.paste(img, box=(i%cols*w, i//cols*h))\n",
        "  return grid"
      ],
      "metadata": {
        "id": "wZ-RsI4rPTFk"
      },
      "execution_count": null,
      "outputs": []
    },
    {
      "cell_type": "code",
      "source": [
        "myimages = []\n",
        "for i in range(9):\n",
        "  opacity = i/8\n",
        "  myimages.append(change_opacity (cat, opacity))\n",
        "image_grid(myimages, 3, 3)"
      ],
      "metadata": {
        "id": "jkvKRlCqQNRm"
      },
      "execution_count": null,
      "outputs": []
    },
    {
      "cell_type": "code",
      "source": [
        "urllib.request.urlretrieve(oak_path, oak_file)\n",
        "oak = Image.open(oak_file)\n",
        "oak"
      ],
      "metadata": {
        "id": "B-R4JOjuUT5H"
      },
      "execution_count": null,
      "outputs": []
    },
    {
      "cell_type": "code",
      "source": [
        "oak.mode"
      ],
      "metadata": {
        "id": "FoTZt3LkUqHn"
      },
      "execution_count": null,
      "outputs": []
    },
    {
      "cell_type": "code",
      "source": [
        "oak = oak.convert(\"RGBA\")"
      ],
      "metadata": {
        "id": "UPy0r4S1fG28"
      },
      "execution_count": null,
      "outputs": []
    },
    {
      "cell_type": "code",
      "source": [
        "oak.mode"
      ],
      "metadata": {
        "id": "oDcxjnhDfQjl"
      },
      "execution_count": null,
      "outputs": []
    },
    {
      "cell_type": "code",
      "source": [
        "oak.size"
      ],
      "metadata": {
        "id": "RjPYpl7cfnaX"
      },
      "execution_count": null,
      "outputs": []
    },
    {
      "cell_type": "code",
      "source": [
        "cat.size"
      ],
      "metadata": {
        "id": "ymxC_v6ffq3I"
      },
      "execution_count": null,
      "outputs": []
    },
    {
      "cell_type": "code",
      "source": [
        "cat = cat.resize((800,600))"
      ],
      "metadata": {
        "id": "xP_Jb-Wlfs6R"
      },
      "execution_count": null,
      "outputs": []
    },
    {
      "cell_type": "markdown",
      "source": [
        "# Alpha Composition"
      ],
      "metadata": {
        "id": "NYU7Ngshp8UK"
      }
    },
    {
      "cell_type": "code",
      "source": [
        "Image.alpha_composite(oak, cat)"
      ],
      "metadata": {
        "id": "O4NHzOdBVnFQ"
      },
      "execution_count": null,
      "outputs": []
    },
    {
      "cell_type": "markdown",
      "source": [
        "# Blend with a constant alpha $$ z = \\alpha x + (1-\\alpha) y$$"
      ],
      "metadata": {
        "id": "VpghV8dkqJl_"
      }
    },
    {
      "cell_type": "code",
      "source": [
        "Image.blend(cat, oak, 0.7)"
      ],
      "metadata": {
        "id": "f3FTE54_XobG"
      },
      "execution_count": null,
      "outputs": []
    },
    {
      "cell_type": "markdown",
      "source": [
        "# Composition with Different Masks"
      ],
      "metadata": {
        "id": "rpdPaujRzXF6"
      }
    },
    {
      "cell_type": "code",
      "source": [
        "mask = Image.new(\"L\", oak.size, 0)\n",
        "draw = ImageDraw.Draw(mask)\n",
        "draw.ellipse((200, 200, 400, 400), fill=255)"
      ],
      "metadata": {
        "id": "yIYcB5xencbK"
      },
      "execution_count": null,
      "outputs": []
    },
    {
      "cell_type": "code",
      "source": [
        "mask"
      ],
      "metadata": {
        "id": "y7OkDGf-qmbX"
      },
      "execution_count": null,
      "outputs": []
    },
    {
      "cell_type": "code",
      "source": [
        "Image.composite(cat, oak, mask)"
      ],
      "metadata": {
        "id": "JUGwxkQIoQXG"
      },
      "execution_count": null,
      "outputs": []
    },
    {
      "cell_type": "code",
      "source": [
        "mask_blur = mask.filter(ImageFilter.GaussianBlur(20))\n",
        "mask_blur"
      ],
      "metadata": {
        "id": "SPp0k9wao8CZ"
      },
      "execution_count": null,
      "outputs": []
    },
    {
      "cell_type": "code",
      "source": [
        "Image.composite(cat, oak, mask_blur)"
      ],
      "metadata": {
        "id": "ey1KnOXBpm-r"
      },
      "execution_count": null,
      "outputs": []
    },
    {
      "cell_type": "code",
      "source": [
        "vizlogo_path = \"https://github.com/jtao/VIST271/raw/main/images/viz_logo.png\"\n",
        "vizlogo = \"viz_logo.png\"\n",
        "urllib.request.urlretrieve(vizlogo_path, vizlogo)\n",
        "mask = Image.open(vizlogo).convert('L').resize(oak.size)\n",
        "Image.composite(oak, cat, mask)"
      ],
      "metadata": {
        "id": "cWY43WnuppJc"
      },
      "execution_count": null,
      "outputs": []
    },
    {
      "cell_type": "markdown",
      "source": [
        "# Animation GIFs"
      ],
      "metadata": {
        "id": "ybwmrUSgzc0S"
      }
    },
    {
      "cell_type": "code",
      "source": [
        "from PIL import Image, ImageDraw\n",
        "\n",
        "images = []\n",
        "\n",
        "width = cat.width\n",
        "center = width // 2\n",
        "max_radius = int(center * 1.5)\n",
        "step = 8\n",
        "\n",
        "for i in range(0, max_radius, step):\n",
        "    im = Image.new('L', cat.size, 0)\n",
        "    draw = ImageDraw.Draw(im)\n",
        "    draw.ellipse((center - i, center - i, center + i, center + i), fill=255)\n",
        "\n",
        "\n",
        "    im = Image.composite(oak, cat, im)\n",
        "    images.append(im)\n",
        "\n",
        "\n",
        "images[0].save('cat_oak.gif', save_all=True, append_images=images[1:], \n",
        "               optimize=True, duration=20, loop=0)"
      ],
      "metadata": {
        "id": "SkI-PyRBrVMs"
      },
      "execution_count": null,
      "outputs": []
    },
    {
      "cell_type": "markdown",
      "source": [
        "# Common Objects in Context (COCO) Dataset\n",
        "\n",
        "[COCO](https://cocodataset.org) is a large-scale object detection, segmentation, and captioning dataset. COCO has several features:\n",
        "\n",
        "* Object segmentation\n",
        "* Recognition in context\n",
        "* Superpixel stuff segmentation\n",
        "* 330K images (>200K labeled)\n",
        "* 1.5 million object instances\n",
        "* 80 object categories\n",
        "* 91 stuff categories\n",
        "* 5 captions per image\n",
        "* 250,000 people with keypoints\n",
        "\n"
      ],
      "metadata": {
        "id": "HdFLneeAzxq3"
      }
    },
    {
      "cell_type": "code",
      "source": [
        "!wget -q http://images.cocodataset.org/annotations/annotations_trainval2017.zip\n",
        "!unzip -o annotations_trainval2017.zip"
      ],
      "metadata": {
        "id": "KSV6_n-R5P53"
      },
      "execution_count": null,
      "outputs": []
    },
    {
      "cell_type": "code",
      "source": [
        "from pycocotools.coco import COCO\n",
        "dataDir='.'\n",
        "dataType='val'\n",
        "annFile='{}/annotations/instances_{}2017.json'.format(dataDir,dataType)\n",
        "coco=COCO(annFile)\n",
        "catIDs = coco.getCatIds(catNms=['cat'])\n",
        "imgIds = coco.getImgIds(catIds=catIDs)\n",
        "images = coco.loadImgs(imgIds)"
      ],
      "metadata": {
        "id": "0Qqj6tBNsn8s"
      },
      "execution_count": null,
      "outputs": []
    },
    {
      "cell_type": "code",
      "source": [
        "len(images)"
      ],
      "metadata": {
        "id": "DVSZbT338E7C"
      },
      "execution_count": null,
      "outputs": []
    },
    {
      "cell_type": "code",
      "source": [
        "# downlaod all the files (it will take a long while for training images, validation images are ok)\n",
        "for im in images:\n",
        "  urllib.request.urlretrieve(im['coco_url'], im['file_name'])"
      ],
      "metadata": {
        "id": "o4NmT3kT8F1g"
      },
      "execution_count": null,
      "outputs": []
    },
    {
      "cell_type": "code",
      "source": [
        "nrows=5\n",
        "ncols=10\n",
        "fig, axes = plt.subplots(nrows, ncols, figsize=(ncols*5, nrows*5))\n",
        "for i in range(nrows):\n",
        "  for j in range(ncols):\n",
        "    I=io.imread(images[i*ncols+j]['file_name'])/255.0\n",
        "    axes[i,j].imshow(I)\n",
        "    axes[i,j].set_axis_off()    \n",
        "plt.show()"
      ],
      "metadata": {
        "id": "09onMWa06_Id"
      },
      "execution_count": null,
      "outputs": []
    },
    {
      "cell_type": "code",
      "source": [
        "# load and display instance annotations\n",
        "def image_ann(im, ann=True):\n",
        "  I=io.imread(im['file_name'])\n",
        "  plt.imshow(I)\n",
        "  plt.axis('off')\n",
        "  if ann:\n",
        "    annIds = coco.getAnnIds(imgIds=im['id'], catIds=catIDs, iscrowd=None)\n",
        "    anns = coco.loadAnns(annIds)\n",
        "    coco.showAnns(anns)"
      ],
      "metadata": {
        "id": "D295D3eP82pv"
      },
      "execution_count": null,
      "outputs": []
    },
    {
      "cell_type": "code",
      "source": [
        "## Get the Binary Mask\n",
        "def binary_mask(im):\n",
        "  mask = np.zeros((im['height'],im['width']))\n",
        "  annIds = coco.getAnnIds(imgIds=im['id'], catIds=catIDs, iscrowd=None)\n",
        "  anns = coco.loadAnns(annIds)\n",
        "  for i in range(len(anns)):\n",
        "      mask = np.maximum(coco.annToMask(anns[i]), mask)\n",
        "  return mask\n",
        "  # plt.imshow(mask)\n",
        "  # plt.axis('off')\n",
        "  # plt.show()"
      ],
      "metadata": {
        "id": "ReXxJzcz_C2J"
      },
      "execution_count": null,
      "outputs": []
    },
    {
      "cell_type": "code",
      "source": [
        "image_ann(images[5], ann=True)"
      ],
      "metadata": {
        "id": "gDg4kUcBBTNT"
      },
      "execution_count": null,
      "outputs": []
    },
    {
      "cell_type": "code",
      "source": [
        "binary_mask(images[5])"
      ],
      "metadata": {
        "id": "s_2YHRK-CiCj"
      },
      "execution_count": null,
      "outputs": []
    },
    {
      "cell_type": "code",
      "source": [
        "# load and display instance annotations\n",
        "def extract_cat(im):\n",
        "  I=io.imread(im['file_name'])/255.0\n",
        "  mask = np.zeros((im['height'],im['width']))\n",
        "  annIds = coco.getAnnIds(imgIds=im['id'], catIds=catIDs, iscrowd=None)\n",
        "  anns = coco.loadAnns(annIds)\n",
        "  for i in range(len(anns)):\n",
        "      mask = np.maximum(coco.annToMask(anns[i]), mask)\n",
        "\n",
        "  mask = mask.reshape(I.shape[0], I.shape[1], 1)\n",
        "\n",
        "  # Cut out the object from its original image\n",
        "  foreground = mask*I\n",
        "  return foreground\n",
        "  # plt.imshow(foreground)\n",
        "  # plt.axis('off')\n",
        "  # plt.show()"
      ],
      "metadata": {
        "id": "XjWbhbgMCpqH"
      },
      "execution_count": null,
      "outputs": []
    },
    {
      "cell_type": "code",
      "source": [
        "images[4]"
      ],
      "metadata": {
        "id": "Zc2LJqshFln6"
      },
      "execution_count": null,
      "outputs": []
    },
    {
      "cell_type": "code",
      "source": [
        "image_ann(images[0], ann=False)"
      ],
      "metadata": {
        "id": "TB_x-ePQFnvM"
      },
      "execution_count": null,
      "outputs": []
    },
    {
      "cell_type": "code",
      "source": [
        "extract_cat(images[0])"
      ],
      "metadata": {
        "id": "S9LQGDazEz5r"
      },
      "execution_count": null,
      "outputs": []
    },
    {
      "cell_type": "code",
      "source": [
        "# Visualize the background\n",
        "plt.imshow(oak)\n",
        "plt.axis('off')\n",
        "plt.show()"
      ],
      "metadata": {
        "id": "oTe2pDbmG6r6"
      },
      "execution_count": null,
      "outputs": []
    },
    {
      "cell_type": "code",
      "source": [
        "import skimage.transform as transform\n",
        "import numpy as np\n",
        "def compose(foreground, mask, background):\n",
        "    # resize background\n",
        "    background = background.convert(\"RGB\")\n",
        "    background = np.array(background)\n",
        "    background = transform.resize(background, foreground.shape[:2])\n",
        "\n",
        "    # Subtract the foreground area from the background\n",
        "    background = background*(1 - mask.reshape(foreground.shape[0], foreground.shape[1], 1))\n",
        "\n",
        "    # Finally, add the foreground\n",
        "    composed_image = background + foreground\n",
        "    \n",
        "    return composed_image"
      ],
      "metadata": {
        "id": "z6rznzKqHwyx"
      },
      "execution_count": null,
      "outputs": []
    },
    {
      "cell_type": "code",
      "source": [
        "composed_image = compose(extract_cat(images[0]), binary_mask(images[0]), oak)\n",
        "plt.imshow(composed_image)\n",
        "plt.axis('off')\n",
        "plt.show()    "
      ],
      "metadata": {
        "id": "hhaqRv-6H4x1"
      },
      "execution_count": null,
      "outputs": []
    },
    {
      "cell_type": "code",
      "source": [
        "nrows=5\n",
        "ncols=10\n",
        "fig, axes = plt.subplots(nrows, ncols, figsize=(ncols*5, nrows*5))\n",
        "for i in range(nrows):\n",
        "  for j in range(ncols):\n",
        "    composed_image = compose(extract_cat(images[i*ncols + j]), binary_mask(images[i*ncols +j]), oak)\n",
        "    axes[i,j].imshow(composed_image)\n",
        "    axes[i,j].set_axis_off()    \n",
        "plt.show()"
      ],
      "metadata": {
        "id": "gwkZFXQzNRP5"
      },
      "execution_count": null,
      "outputs": []
    }
  ]
}