{
  "cells": [
    {
      "cell_type": "markdown",
      "metadata": {
        "id": "view-in-github",
        "colab_type": "text"
      },
      "source": [
        "<a href=\"https://colab.research.google.com/github/jtao/VIST271/blob/main/Image_Filtering.ipynb\" target=\"_parent\"><img src=\"https://colab.research.google.com/assets/colab-badge.svg\" alt=\"Open In Colab\"/></a>"
      ]
    },
    {
      "cell_type": "markdown",
      "metadata": {
        "id": "V77wqLE4ZDOo"
      },
      "source": [
        "# Image Filtering with PIL\n",
        "\n",
        "Jian Tao, Texas A&M University\n",
        "\n",
        "Feb 28, 2022"
      ]
    },
    {
      "cell_type": "markdown",
      "metadata": {
        "id": "dt7hNPMsZDOq"
      },
      "source": [
        "We will explore image filtering with Python PIL library."
      ]
    },
    {
      "cell_type": "markdown",
      "metadata": {
        "id": "jKcfe40mZDOq"
      },
      "source": [
        "First a few librabries will be imported."
      ]
    },
    {
      "cell_type": "code",
      "source": [
        "oak_path = \"https://github.com/jtao/VIST271/raw/main/images/post_oak.jpg\"\n",
        "oak_file = \"post_oak.jpg\""
      ],
      "metadata": {
        "id": "WhqOTQMWgR0Y"
      },
      "execution_count": null,
      "outputs": []
    },
    {
      "cell_type": "markdown",
      "source": [
        "## Read Image\n",
        "\n",
        "We first download an image from a URL and then open it with the Image.open function in PIL. Let's convert it to the grayscale and work on one channel only."
      ],
      "metadata": {
        "id": "f1oIhjn7gXy9"
      }
    },
    {
      "cell_type": "code",
      "execution_count": null,
      "metadata": {
        "id": "RmlcBRYEZDOr"
      },
      "outputs": [],
      "source": [
        "import numpy as np\n",
        "import os\n",
        "import random\n",
        "from matplotlib import pyplot as plt\n",
        "from PIL import Image, ImageFilter\n",
        "import urllib.request\n",
        "urllib.request.urlretrieve(oak_path, oak_file)\n",
        "oak = Image.open(oak_file).convert('L')\n",
        "oak"
      ]
    },
    {
      "cell_type": "code",
      "source": [
        "oak_mat = np.array(oak)"
      ],
      "metadata": {
        "id": "tU8AVGz0qRAY"
      },
      "execution_count": null,
      "outputs": []
    },
    {
      "cell_type": "code",
      "source": [
        "oak_mat.shape"
      ],
      "metadata": {
        "id": "19wxls0qqXLY"
      },
      "execution_count": null,
      "outputs": []
    },
    {
      "cell_type": "markdown",
      "source": [
        "Let's pull out row 200-209 and column 200-209 of the matrix and print the numbers out."
      ],
      "metadata": {
        "id": "ByHi9OJ3qvQu"
      }
    },
    {
      "cell_type": "code",
      "source": [
        "print (oak_mat[200:210, 200:210])"
      ],
      "metadata": {
        "id": "u-qzwBaSqkfw"
      },
      "execution_count": null,
      "outputs": []
    },
    {
      "cell_type": "markdown",
      "source": [
        "Let's try to plot directly from the array oak_mat"
      ],
      "metadata": {
        "id": "Da-IVfzrqg1P"
      }
    },
    {
      "cell_type": "code",
      "source": [
        "Image.fromarray(oak_mat[200:210, 200:210])"
      ],
      "metadata": {
        "id": "d5CdxKB-qeCh"
      },
      "execution_count": null,
      "outputs": []
    },
    {
      "cell_type": "markdown",
      "source": [
        "We can find out where it is by coloring it white in the original matrix."
      ],
      "metadata": {
        "id": "4F1t2nOv3Hsv"
      }
    },
    {
      "cell_type": "code",
      "source": [
        "#oak_mat[200:210, 200:210] = 255\n",
        "#Image.fromarray(oak_mat)"
      ],
      "metadata": {
        "id": "kG-pv55724g3"
      },
      "execution_count": null,
      "outputs": []
    },
    {
      "cell_type": "markdown",
      "source": [
        "## Segmentation filter\n",
        "### Let's try to set the value of a pixel to 255 when it is greater than 100 and 0 otherwise."
      ],
      "metadata": {
        "id": "7WzdfDC14Pla"
      }
    },
    {
      "cell_type": "code",
      "source": [
        "def segmentation(im, cutoff=100):\n",
        "  im_mat = np.array(im)\n",
        "  for i in range(im_mat.shape[0]):\n",
        "    for j in range(im_mat.shape[1]):\n",
        "      if im_mat[i, j] > cutoff:\n",
        "        im_mat[i, j] = 255\n",
        "      else:\n",
        "        im_mat[i, j] = 0\n",
        "  return im_mat"
      ],
      "metadata": {
        "id": "9L8ofYQn4OKQ"
      },
      "execution_count": null,
      "outputs": []
    },
    {
      "cell_type": "code",
      "source": [
        "Image.fromarray(segmentation(oak, cutoff=70))"
      ],
      "metadata": {
        "id": "IeLliRBu5HpD"
      },
      "execution_count": null,
      "outputs": []
    },
    {
      "cell_type": "markdown",
      "source": [
        "## Let's add some noise to the original image\n",
        "The code below to add noise could be considered as a segmentation filter as well."
      ],
      "metadata": {
        "id": "B9GxxSvN3Uuo"
      }
    },
    {
      "cell_type": "code",
      "source": [
        "def add_noise(im, ratio=0.4):\n",
        "  im_mat = np.array(im)\n",
        "  mask = np.random.random(im_mat.shape)\n",
        "  for i in range(mask.shape[0]):\n",
        "    for j in range(mask.shape[1]):\n",
        "      if mask[i, j] > 1-ratio:\n",
        "# add a random number to generate salt and pepper noise        \n",
        "        im_mat[i, j] = 255*random.getrandbits(1)\n",
        "  return im_mat"
      ],
      "metadata": {
        "id": "muuxJCo6szrf"
      },
      "execution_count": null,
      "outputs": []
    },
    {
      "cell_type": "code",
      "source": [
        "oak_noisy = add_noise(oak, ratio=0.01)\n",
        "Image.fromarray(oak_noisy)"
      ],
      "metadata": {
        "id": "dpZvoJhhwLUi"
      },
      "execution_count": null,
      "outputs": []
    },
    {
      "cell_type": "markdown",
      "source": [
        "## Identity Filter/Kernel"
      ],
      "metadata": {
        "id": "89O3HOUMDegL"
      }
    },
    {
      "cell_type": "code",
      "source": [
        "def identity_filter(size=3):\n",
        "  if size % 2 == 0:\n",
        "    print (\"the size must be an odd number!\")\n",
        "    return \n",
        "  filter_mat = np.zeros((size, size))\n",
        "  filter_mat[size//2, size//2] = 1\n",
        "  return filter_mat"
      ],
      "metadata": {
        "id": "zo-ueIouDSu-"
      },
      "execution_count": null,
      "outputs": []
    },
    {
      "cell_type": "code",
      "source": [
        "identity_filter(5)"
      ],
      "metadata": {
        "id": "tvppyYMwEabM"
      },
      "execution_count": null,
      "outputs": []
    },
    {
      "cell_type": "markdown",
      "metadata": {
        "id": "kyLQxSNHZDOt"
      },
      "source": [
        "## Mean Filter/Kernel"
      ]
    },
    {
      "cell_type": "code",
      "execution_count": null,
      "metadata": {
        "id": "Snczdpc8ZDOu"
      },
      "outputs": [],
      "source": [
        "def mean_filter(size=3):\n",
        "  filter_mat = np.full((size, size), 1/(size*size))\n",
        "  return filter_mat"
      ]
    },
    {
      "cell_type": "code",
      "source": [
        "mean_filter(3)"
      ],
      "metadata": {
        "id": "TK_jHf0C7qcB"
      },
      "execution_count": null,
      "outputs": []
    },
    {
      "cell_type": "markdown",
      "source": [
        "## Some other commonly used filters"
      ],
      "metadata": {
        "id": "pvoDEyeTXhgh"
      }
    },
    {
      "cell_type": "code",
      "source": [
        "sharpen_filter = np.array([\n",
        "    [0, -1, 0],\n",
        "    [-1, 5, -1],\n",
        "    [0, -1, 0]\n",
        "])\n",
        "\n",
        "blur_filter = np.array([\n",
        "    [0.0625, 0.125, 0.0625],\n",
        "    [0.125,  0.25,  0.125],\n",
        "    [0.0625, 0.125, 0.0625]\n",
        "])\n",
        "\n",
        "outline_filter = np.array([\n",
        "    [-1, -1, -1],\n",
        "    [-1,  8, -1],\n",
        "    [-1, -1, -1]\n",
        "])"
      ],
      "metadata": {
        "id": "NCih59lgXeBD"
      },
      "execution_count": null,
      "outputs": []
    },
    {
      "cell_type": "code",
      "source": [
        "myfilter = 2*identity_filter(3) - mean_filter(3)"
      ],
      "metadata": {
        "id": "DgUTvOhmaVNp"
      },
      "execution_count": null,
      "outputs": []
    },
    {
      "cell_type": "code",
      "source": [
        "myfilter"
      ],
      "metadata": {
        "id": "wMyftb1saeAD"
      },
      "execution_count": null,
      "outputs": []
    },
    {
      "cell_type": "markdown",
      "source": [
        "## Apply the convolution kernel \n",
        "\n"
      ],
      "metadata": {
        "id": "2QLQP1RWcarO"
      }
    },
    {
      "cell_type": "code",
      "source": [
        "def apply_filter(im, kernel):\n",
        "  im = np.asarray(im)\n",
        "  m, n = im.shape\n",
        "  o, p = kernel.shape\n",
        "  k_half = o // 2\n",
        "  print (m,n,o,p)\n",
        "  im = np.pad(im, (k_half, k_half), 'constant', constant_values=0)\n",
        "  im_new = np.zeros((m, n))\n",
        "\n",
        "  for i in range(1, m-1):\n",
        "    for j in range(1, n-1):\n",
        "      mat = im[i-k_half:i+k_half, j-k_half:j+k_half]\n",
        "      temp = 0\n",
        "      for k in range(o):\n",
        "        for l in range(p):\n",
        "          temp += im[i+k, j+l] * kernel[k, l]         \n",
        "          im_new[i, j] = min(255, max(0, temp))          \n",
        "    # temp = im[i-1, j-1]*kernel[0, 0] \\\n",
        "    #       +im[i-1, j  ]*kernel[0, 1] \\\n",
        "    #       +im[i-1, j+1]*kernel[0, 2] \\\n",
        "    #       +im[i,   j-1]*kernel[1, 0] \\\n",
        "    #       +im[i,   j  ]*kernel[1, 1] \\\n",
        "    #       +im[i,   j+1]*kernel[1, 2] \\\n",
        "    #       +im[i+1, j-1]*kernel[2, 0] \\\n",
        "    #       +im[i+1, j  ]*kernel[2, 1] \\\n",
        "    #       +im[i+1, j+1]*kernel[2, 2]              \n",
        "  return im_new.astype(np.uint8)\n",
        "  "
      ],
      "metadata": {
        "id": "ZtCPjeU_I3Us"
      },
      "execution_count": null,
      "outputs": []
    },
    {
      "cell_type": "code",
      "source": [
        "oak_blur = apply_filter(oak, blur_filter)\n",
        "Image.fromarray(oak_blur)"
      ],
      "metadata": {
        "id": "ZCLKyGmhayQZ"
      },
      "execution_count": null,
      "outputs": []
    },
    {
      "cell_type": "code",
      "source": [
        "oak_sharpen = apply_filter(oak, sharpen_filter)\n",
        "Image.fromarray(oak_sharpen)"
      ],
      "metadata": {
        "id": "WkLpQ6HOajYH"
      },
      "execution_count": null,
      "outputs": []
    },
    {
      "cell_type": "code",
      "source": [
        "def seg_filter(im, size = 3, filter=\"median\"):\n",
        "  tfilter = {\"median\":np.median, \"max\":np.max, \"min\":np.min, \"mean\":np.mean}\n",
        "  im = np.asarray(im)\n",
        "  m, n = im.shape\n",
        "  k_half = size // 2\n",
        "  print (m,n,size)\n",
        "  im = np.pad(im, (k_half, k_half), 'constant', constant_values=0)\n",
        "  im_new = np.zeros((m, n))\n",
        "\n",
        "  for i in range(m):\n",
        "    for j in range(n):\n",
        "      mat = im[i:i+size, j:j+size]\n",
        "      im_new[i, j] = tfilter[filter](mat)\n",
        "  return im_new.astype(np.uint8)"
      ],
      "metadata": {
        "id": "ZDn1DUKycY_5"
      },
      "execution_count": null,
      "outputs": []
    },
    {
      "cell_type": "code",
      "source": [
        "Image.fromarray(oak_noisy)"
      ],
      "metadata": {
        "id": "-jg9oLJceaLB"
      },
      "execution_count": null,
      "outputs": []
    },
    {
      "cell_type": "code",
      "source": [
        "Image.fromarray(seg_filter(oak_noisy, size = 3, filter = \"median\"))"
      ],
      "metadata": {
        "id": "fgCKYRymeSJf"
      },
      "execution_count": null,
      "outputs": []
    },
    {
      "cell_type": "code",
      "source": [
        "Image.fromarray(seg_filter(oak, size = 3, filter = \"max\"))"
      ],
      "metadata": {
        "id": "lOnlzHnvef1s"
      },
      "execution_count": null,
      "outputs": []
    },
    {
      "cell_type": "code",
      "source": [
        "Image.fromarray(seg_filter(oak, size = 3, filter = \"min\"))"
      ],
      "metadata": {
        "id": "fJIJ0yEdetht"
      },
      "execution_count": null,
      "outputs": []
    },
    {
      "cell_type": "code",
      "source": [
        "Image.fromarray(seg_filter(oak_blur, size = 3, filter = \"median\"))"
      ],
      "metadata": {
        "id": "XpjqZa2ne03f"
      },
      "execution_count": null,
      "outputs": []
    },
    {
      "cell_type": "markdown",
      "source": [
        "## We can compare the convolution mean filter and the segmentation mean filter. They are essentailly the same."
      ],
      "metadata": {
        "id": "vXXxr8NLfQ-w"
      }
    },
    {
      "cell_type": "code",
      "source": [
        "Image.fromarray(apply_filter(oak_blur, mean_filter(3)))"
      ],
      "metadata": {
        "id": "Uozh-p_xfBji"
      },
      "execution_count": null,
      "outputs": []
    },
    {
      "cell_type": "code",
      "source": [
        "Image.fromarray(seg_filter(oak_blur, size = 3, filter = \"mean\"))"
      ],
      "metadata": {
        "id": "VEvT4CKofqKU"
      },
      "execution_count": null,
      "outputs": []
    }
  ],
  "metadata": {
    "kernelspec": {
      "display_name": "Python 3",
      "language": "python",
      "name": "python3"
    },
    "language_info": {
      "codemirror_mode": {
        "name": "ipython",
        "version": 3
      },
      "file_extension": ".py",
      "mimetype": "text/x-python",
      "name": "python",
      "nbconvert_exporter": "python",
      "pygments_lexer": "ipython3",
      "version": "3.6.5"
    },
    "colab": {
      "name": "Image_Filtering.ipynb",
      "provenance": [],
      "collapsed_sections": [],
      "include_colab_link": true
    }
  },
  "nbformat": 4,
  "nbformat_minor": 0
}