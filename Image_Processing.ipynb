{
  "cells": [
    {
      "cell_type": "markdown",
      "metadata": {
        "id": "s7zFgY8K1qS8"
      },
      "source": [
        "# Image processing\n",
        "\n",
        "Python provides several great libraries that allow a wide range of operation on images. This tutorial uses only Pillows or PIL.\n"
      ]
    },
    {
      "cell_type": "code",
      "execution_count": null,
      "metadata": {
        "id": "95lD-aUC1qS-"
      },
      "outputs": [],
      "source": [
        "path = \"https://github.com/jtao/VIST271/raw/main/images/post_oak.jpg\""
      ]
    },
    {
      "cell_type": "markdown",
      "metadata": {
        "id": "f31cIIpQ1qS_"
      },
      "source": [
        "# Read Image\n",
        "\n",
        "We first download an image from a URL and then open it with Image.open function.\n"
      ]
    },
    {
      "cell_type": "code",
      "execution_count": null,
      "metadata": {
        "id": "1YIXxTWI1qTA"
      },
      "outputs": [],
      "source": [
        "from PIL import Image, ImageFilter, ImageDraw, ImageFont"
      ]
    },
    {
      "cell_type": "code",
      "execution_count": null,
      "metadata": {
        "id": "uYnvUYtp1qTA"
      },
      "outputs": [],
      "source": [
        "import urllib.request\n",
        "from PIL import Image\n",
        "urllib.request.urlretrieve(path,\"post_oak.jpg\")\n",
        "im = Image.open(\"post_oak.jpg\")\n",
        "im"
      ]
    },
    {
      "cell_type": "code",
      "source": [
        "im.size"
      ],
      "metadata": {
        "id": "_O2g56v-6F_L"
      },
      "execution_count": null,
      "outputs": []
    },
    {
      "cell_type": "code",
      "source": [
        "im.mode"
      ],
      "metadata": {
        "id": "QN951A5w6VLP"
      },
      "execution_count": null,
      "outputs": []
    },
    {
      "cell_type": "code",
      "source": [
        "im.info"
      ],
      "metadata": {
        "id": "6T0Zf8pu6e9N"
      },
      "execution_count": null,
      "outputs": []
    },
    {
      "cell_type": "code",
      "execution_count": null,
      "metadata": {
        "id": "EkzdAhmH1qTA"
      },
      "outputs": [],
      "source": [
        "im.getbands()"
      ]
    },
    {
      "cell_type": "code",
      "source": [
        "im"
      ],
      "metadata": {
        "id": "usNpuSDc7WLB"
      },
      "execution_count": null,
      "outputs": []
    },
    {
      "cell_type": "code",
      "source": [
        "im.filter(ImageFilter.BLUR)"
      ],
      "metadata": {
        "id": "IYg5dtKT7_Zc"
      },
      "execution_count": null,
      "outputs": []
    },
    {
      "cell_type": "markdown",
      "source": [
        "**Box blur**\n",
        "\n",
        "In this filter, we use ‘radius’ as parameter. Radius is directly proportional to the blur value.\n",
        "\n",
        "Radius 5 means takes 5 pixel in each direction."
      ],
      "metadata": {
        "id": "HnDJ0tgO8fxc"
      }
    },
    {
      "cell_type": "code",
      "source": [
        "im.filter(ImageFilter.BoxBlur(5))"
      ],
      "metadata": {
        "id": "OHlYdl-08Fck"
      },
      "execution_count": null,
      "outputs": []
    },
    {
      "cell_type": "code",
      "source": [
        "im.filter(ImageFilter.GaussianBlur(3))"
      ],
      "metadata": {
        "id": "qldAKv7r8lrh"
      },
      "execution_count": null,
      "outputs": []
    },
    {
      "cell_type": "markdown",
      "source": [
        "Cropping is one of the important operations of the image processing to remove unwanted portions of an image as well as to add required features to an image. It is widely used process in web applications, for uploading an image."
      ],
      "metadata": {
        "id": "iwn-p6U99X3h"
      }
    },
    {
      "cell_type": "code",
      "source": [
        "im.crop((0,0,300,300))"
      ],
      "metadata": {
        "id": "IAv1GUz19RI7"
      },
      "execution_count": null,
      "outputs": []
    },
    {
      "cell_type": "code",
      "source": [
        "im.transpose(Image.FLIP_LEFT_RIGHT)"
      ],
      "metadata": {
        "id": "JEJ8GCPg94SV"
      },
      "execution_count": null,
      "outputs": []
    },
    {
      "cell_type": "code",
      "source": [
        "im.transpose(Image.FLIP_TOP_BOTTOM)"
      ],
      "metadata": {
        "id": "SYVHX7-g-MNY"
      },
      "execution_count": null,
      "outputs": []
    },
    {
      "cell_type": "code",
      "source": [
        "im.transpose(Image.ROTATE_90)"
      ],
      "metadata": {
        "id": "MZ0TkicD-QW3"
      },
      "execution_count": null,
      "outputs": []
    },
    {
      "cell_type": "code",
      "source": [
        "im.transpose(Image.ROTATE_270)"
      ],
      "metadata": {
        "id": "ToLf89ce-ZIv"
      },
      "execution_count": null,
      "outputs": []
    },
    {
      "cell_type": "markdown",
      "source": [
        "The resize function requires integer input, so round is needed to get the nearest integer."
      ],
      "metadata": {
        "id": "fClqkbAx_Dey"
      }
    },
    {
      "cell_type": "code",
      "source": [
        "im.resize((round(im.size[0]*0.5), round(im.size[1]*0.5)))"
      ],
      "metadata": {
        "id": "jU5mjOdQ-f14"
      },
      "execution_count": null,
      "outputs": []
    },
    {
      "cell_type": "markdown",
      "source": [
        "The ImageFilter module contains definitions for a pre-defined set of filters, which we used with Image.filter() method. These filters are used to change the looks and feel of the image."
      ],
      "metadata": {
        "id": "J-qhpNGpAlpA"
      }
    },
    {
      "cell_type": "code",
      "source": [
        "im.filter(ImageFilter.MinFilter(3))"
      ],
      "metadata": {
        "id": "8SMSMoAr_ipf"
      },
      "execution_count": null,
      "outputs": []
    },
    {
      "cell_type": "code",
      "source": [
        "im.filter(ImageFilter.CONTOUR)"
      ],
      "metadata": {
        "id": "E4CiMjleArvs"
      },
      "execution_count": null,
      "outputs": []
    },
    {
      "cell_type": "code",
      "source": [
        "im.filter(ImageFilter.EMBOSS)"
      ],
      "metadata": {
        "id": "hM_9jgp_Azp6"
      },
      "execution_count": null,
      "outputs": []
    },
    {
      "cell_type": "code",
      "source": [
        "im.filter(ImageFilter.SMOOTH)"
      ],
      "metadata": {
        "id": "GTmVJ6KMA8aT"
      },
      "execution_count": null,
      "outputs": []
    },
    {
      "cell_type": "code",
      "source": [
        "im.filter(ImageFilter.FIND_EDGES)"
      ],
      "metadata": {
        "id": "jmOg1nRtA_Ec"
      },
      "execution_count": null,
      "outputs": []
    },
    {
      "cell_type": "code",
      "source": [
        "im.filter(ImageFilter.EDGE_ENHANCE_MORE)"
      ],
      "metadata": {
        "id": "4-APT1lFBD5E"
      },
      "execution_count": null,
      "outputs": []
    },
    {
      "cell_type": "code",
      "source": [
        "im.filter(ImageFilter.SHARPEN)"
      ],
      "metadata": {
        "id": "J0g-qJcsBUft"
      },
      "execution_count": null,
      "outputs": []
    },
    {
      "cell_type": "code",
      "source": [
        "draw = ImageDraw.Draw(im)\n",
        "draw.line((0, 0) + im.size, fill=128)\n",
        "draw.line((0, im.size[1], im.size[0], 0), fill=128)\n",
        "im"
      ],
      "metadata": {
        "id": "NDBqu4mLB5N_"
      },
      "execution_count": null,
      "outputs": []
    },
    {
      "cell_type": "code",
      "source": [
        "draw.ellipse((200, 125, 300, 200), fill=(255, 0, 0), outline=(0, 0, 0))\n",
        "im"
      ],
      "metadata": {
        "id": "tn3eW0z7B_Sv"
      },
      "execution_count": null,
      "outputs": []
    },
    {
      "cell_type": "code",
      "execution_count": null,
      "metadata": {
        "id": "aSnz156a1qTB"
      },
      "outputs": [],
      "source": [
        "R, G, B = im.split()"
      ]
    },
    {
      "cell_type": "code",
      "source": [
        "R"
      ],
      "metadata": {
        "id": "9sJRHmcn4TZ6"
      },
      "execution_count": null,
      "outputs": []
    },
    {
      "cell_type": "code",
      "source": [
        "im = im.rotate(45)\n",
        "im"
      ],
      "metadata": {
        "id": "IKkovJY24r23"
      },
      "execution_count": null,
      "outputs": []
    }
  ],
  "metadata": {
    "kernelspec": {
      "display_name": "Python 3 (ipykernel)",
      "language": "python",
      "name": "python3"
    },
    "language_info": {
      "codemirror_mode": {
        "name": "ipython",
        "version": 3
      },
      "file_extension": ".py",
      "mimetype": "text/x-python",
      "name": "python",
      "nbconvert_exporter": "python",
      "pygments_lexer": "ipython3",
      "version": "3.10.2"
    },
    "colab": {
      "name": "Image_Processing.ipynb",
      "provenance": []
    }
  },
  "nbformat": 4,
  "nbformat_minor": 0
}