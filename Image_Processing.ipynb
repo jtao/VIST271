{
 "cells": [
  {
   "cell_type": "markdown",
   "metadata": {},
   "source": [
    "# Image processing\n",
    "\n",
    "Python provides several great libraries that allow a wide range of operation on images. For further information, please read the tutorials of:\n",
    "* [OpenCV](https://docs.opencv.org/3.0-beta/doc/py_tutorials/py_tutorials.html)\n",
    "* [Scikit Image](http://scikit-image.org/docs/stable/auto_examples/index.html)\n"
   ]
  },
  {
   "cell_type": "code",
   "execution_count": null,
   "metadata": {},
   "outputs": [],
   "source": [
    "path = \"post_oak.jpg\""
   ]
  },
  {
   "cell_type": "markdown",
   "metadata": {},
   "source": [
    "# Read Image\n",
    "\n",
    "In this notebook, we introduce basic ways to read, show, explore and save images.\n"
   ]
  },
  {
   "cell_type": "code",
   "execution_count": null,
   "metadata": {},
   "outputs": [],
   "source": [
    "from PIL import Image\n",
    "import numpy as np\n",
    "import matplotlib.pyplot as plt\n",
    "from matplotlib import cm\n",
    "from scipy import ndimage"
   ]
  },
  {
   "cell_type": "code",
   "execution_count": null,
   "metadata": {},
   "outputs": [],
   "source": [
    "im = Image.open(path)\n",
    "im"
   ]
  },
  {
   "cell_type": "code",
   "execution_count": null,
   "metadata": {},
   "outputs": [],
   "source": [
    "im.getbands()"
   ]
  },
  {
   "cell_type": "code",
   "execution_count": null,
   "metadata": {},
   "outputs": [],
   "source": [
    "R, G, B = im.split()\n",
    "R = np.array(R)\n",
    "G = np.array(G)\n",
    "B = np.array(B)\n",
    "R"
   ]
  },
  {
   "cell_type": "code",
   "execution_count": null,
   "metadata": {},
   "outputs": [],
   "source": [
    "fig = plt.figure()\n",
    "ax1 = fig.add_subplot(1, 3, 1)\n",
    "plt.title(\"R\")\n",
    "plt.imshow(R, cmap = cm.gray)\n",
    "ax1.axis(\"off\")\n",
    "ax1 = fig.add_subplot(1, 3, 2)\n",
    "plt.title(\"G\")\n",
    "plt.imshow(G, cmap = cm.gray)\n",
    "ax1.axis(\"off\")\n",
    "ax1 = fig.add_subplot(1, 3, 3)\n",
    "plt.title(\"B\")\n",
    "plt.imshow(B, cmap = cm.gray)\n",
    "ax1.axis(\"off\")\n",
    "plt.show()\n"
   ]
  },
  {
   "cell_type": "code",
   "execution_count": null,
   "metadata": {},
   "outputs": [],
   "source": [
    "r2 = np.arange(256).astype(np.uint8)\n",
    "g2 = np.arange(256).astype(np.uint8)\n",
    "R2, G2 = np.meshgrid(r2, g2)\n",
    "B2 = np.zeros_like(R2).astype(np.uint8)"
   ]
  },
  {
   "cell_type": "code",
   "execution_count": null,
   "metadata": {},
   "outputs": [],
   "source": [
    "im2 = Image.fromarray(np.dstack([R2, G2, B2]))\n",
    "im2"
   ]
  },
  {
   "cell_type": "markdown",
   "metadata": {},
   "source": [
    "Let's apply that to the image. For example, we can switch channels:"
   ]
  },
  {
   "cell_type": "code",
   "execution_count": null,
   "metadata": {},
   "outputs": [],
   "source": [
    "im3 = Image.fromarray(np.dstack([G, R, B]))\n",
    "im3"
   ]
  },
  {
   "cell_type": "markdown",
   "metadata": {},
   "source": [
    "## Conversion to grayscale"
   ]
  },
  {
   "cell_type": "code",
   "execution_count": null,
   "metadata": {},
   "outputs": [],
   "source": [
    "R, G, B = im.split()\n",
    "R = np.array(R)\n",
    "G = np.array(G)\n",
    "B = np.array(B)\n",
    "R"
   ]
  },
  {
   "cell_type": "code",
   "execution_count": null,
   "metadata": {},
   "outputs": [],
   "source": [
    "fig = plt.figure()\n",
    "ax1 = fig.add_subplot(3, 1, 1)\n",
    "plt.title(\"R\")\n",
    "plt.imshow(R, cmap = cm.gray)\n",
    "ax1.axis(\"off\")\n",
    "ax1 = fig.add_subplot(3, 1, 2)\n",
    "plt.title(\"G\")\n",
    "plt.imshow(G, cmap = cm.gray)\n",
    "ax1.axis(\"off\")\n",
    "ax1 = fig.add_subplot(3, 1, 3)\n",
    "plt.title(\"B\")\n",
    "plt.imshow(B, cmap = cm.gray)\n",
    "ax1.axis(\"off\")\n",
    "plt.show()\n"
   ]
  },
  {
   "cell_type": "markdown",
   "metadata": {},
   "source": [
    "The green channel has a great contrats so we chose to work only on this channel now.\n",
    "\n",
    "## Histogram\n",
    "\n",
    "The histogram shows the repartition of the pixels on the color scale."
   ]
  },
  {
   "cell_type": "code",
   "execution_count": null,
   "metadata": {},
   "outputs": [],
   "source": [
    "plt.figure()\n",
    "plt.hist(G.flatten(), bins = np.arange(256), histtype = \"stepfilled\") \n",
    "plt.grid()\n",
    "plt.xlabel(\"Pixel value\")\n",
    "plt.ylabel(\"Pixel count\")\n",
    "plt.show()"
   ]
  },
  {
   "cell_type": "code",
   "execution_count": null,
   "metadata": {},
   "outputs": [],
   "source": [
    "Gt = G < 80 # Thresholding\n",
    "plt.figure()\n",
    "plt.imshow(Gt, cmap = cm.gray, interpolation = \"nearest\")\n",
    "plt.grid()\n",
    "#plt.colorbar()\n",
    "plt.show()"
   ]
  },
  {
   "cell_type": "markdown",
   "metadata": {},
   "source": [
    "## Erosion / Dilation\n"
   ]
  },
  {
   "cell_type": "code",
   "execution_count": null,
   "metadata": {},
   "outputs": [],
   "source": [
    "struc = np.ones((8,8))\n",
    "Gtd = ndimage.binary_dilation(Gt, structure = struc)\n",
    "Gtde = ndimage.binary_erosion(Gtd, structure = struc)\n",
    "plt.figure()\n",
    "plt.imshow(Gtde, cmap = cm.gray, interpolation = \"nearest\")\n",
    "plt.grid()\n",
    "plt.show()"
   ]
  }
 ],
 "metadata": {
  "kernelspec": {
   "display_name": "Python 3 (ipykernel)",
   "language": "python",
   "name": "python3"
  },
  "language_info": {
   "codemirror_mode": {
    "name": "ipython",
    "version": 3
   },
   "file_extension": ".py",
   "mimetype": "text/x-python",
   "name": "python",
   "nbconvert_exporter": "python",
   "pygments_lexer": "ipython3",
   "version": "3.10.2"
  }
 },
 "nbformat": 4,
 "nbformat_minor": 2
}
