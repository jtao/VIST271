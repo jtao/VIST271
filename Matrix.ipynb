{
  "nbformat": 4,
  "nbformat_minor": 0,
  "metadata": {
    "colab": {
      "name": "Matrix.ipynb",
      "provenance": [],
      "collapsed_sections": [],
      "authorship_tag": "ABX9TyNfsouJnBKz1xZI3OnJPukE",
      "include_colab_link": true
    },
    "kernelspec": {
      "name": "python3",
      "display_name": "Python 3"
    },
    "language_info": {
      "name": "python"
    }
  },
  "cells": [
    {
      "cell_type": "markdown",
      "metadata": {
        "id": "view-in-github",
        "colab_type": "text"
      },
      "source": [
        "<a href=\"https://colab.research.google.com/github/jtao/VIST271/blob/main/Matrix.ipynb\" target=\"_parent\"><img src=\"https://colab.research.google.com/assets/colab-badge.svg\" alt=\"Open In Colab\"/></a>"
      ]
    },
    {
      "cell_type": "code",
      "execution_count": 57,
      "metadata": {
        "id": "meEsjxf64Fv8"
      },
      "outputs": [],
      "source": [
        "class Matrix:    \n",
        "    def __init__(self, shape=(0,0), fill_value=0, rows=[]):\n",
        "      #shape is a tuple \n",
        "      if rows:\n",
        "        self.rows = rows\n",
        "        self.shape[0] = len(rows)\n",
        "        self.shape[1] = len(rows[0])\n",
        "      else:\n",
        "        self.shape = shape\n",
        "        self.rows = [[fill_value]*self.shape[1] for x in range(self.shape[0])]\n",
        "      print(self)\n",
        "\n",
        "    def setrow(self, idx, row):\n",
        "      if self.shape[1] == len(row):\n",
        "        self.rows[idx] = row\n",
        "      else:\n",
        "        print(\"the length of the row needs to be %d\" % self.shape[1])\n",
        "      print(self)\n",
        "        \n",
        "    def __str__(self):\n",
        "        return '\\n'.join([' '.join([str(item) for item in row]) for row in self.rows])\n",
        "                         \n",
        "    def transpose(self, inplace=False):\n",
        "      if inplace:\n",
        "        self.shape[1], self.shape[0] = self.shape[0], self.shape[1]\n",
        "        self.rows = [list(item) for item in zip(*self.rows)]\n",
        "      else:\n",
        "        mat = Matrix(self.shape)\n",
        "        mat.rows =  [list(item) for item in zip(*self.rows)]\n",
        "        return mat        \n",
        "\n",
        "    def __eq__(self, mat):\n",
        "        return (mat.rows == self.rows)\n",
        "        \n",
        "    def __add__(self, mat):\n",
        "      if self.shape != mat.shape:\n",
        "          print(\"Shapes of the matrices do not match!\")\n",
        "          return      \n",
        "\n",
        "      ret = Matrix(self.shape)\n",
        "      \n",
        "      for x in range(self.shape[0]):\n",
        "          row = [sum(item) for item in zip(self.rows[x], mat[x])]\n",
        "          ret[x] = row\n",
        "\n",
        "      return ret\n",
        "\n",
        "    def __sub__(self, mat):        \n",
        "\n",
        "      if self.shape != mat.shape:\n",
        "          print(\"Shapes of the matrices do not match!\")\n",
        "          return\n",
        "\n",
        "      ret = Matrix(self.shape)\n",
        "      \n",
        "      for x in range(self.shape[0]):\n",
        "          row = [item[0]-item[1] for item in zip(self.rows[x], mat[x])]\n",
        "          ret[x] = row\n",
        "\n",
        "      return ret\n",
        "\n",
        "    def __mul__(self, mat):\n",
        "\n",
        "      if (self.shape[1] != mat.shape[0]):\n",
        "          print(\"Matrices do not have the match dimension to be multipled!\")\n",
        "\n",
        "      mat_t = mat.transpose()\n",
        "\n",
        "      ret = Matrix(self.shape[0], mat.shape[1])\n",
        "      \n",
        "      for l in range(self.shape[0]):\n",
        "          for r in range(mat_t.shape[0]):\n",
        "              ret[l][r] = sum([item[0]*item[1] for item in zip(self.rows[l], mat_t[r])])\n",
        "\n",
        "      return ret"
      ]
    },
    {
      "cell_type": "code",
      "source": [
        "myrow = Matrix((3,3))"
      ],
      "metadata": {
        "colab": {
          "base_uri": "https://localhost:8080/"
        },
        "id": "mC1n4_xo5fdJ",
        "outputId": "5900f541-492c-461b-db79-adc01160cdd6"
      },
      "execution_count": 58,
      "outputs": [
        {
          "output_type": "stream",
          "name": "stdout",
          "text": [
            "0 0 0\n",
            "0 0 0\n",
            "0 0 0\n"
          ]
        }
      ]
    },
    {
      "cell_type": "code",
      "source": [
        "myrow.setrow(0, [2,3,4])"
      ],
      "metadata": {
        "colab": {
          "base_uri": "https://localhost:8080/"
        },
        "id": "k3lfkJSd5kYU",
        "outputId": "d5ba8f64-01a1-4417-d472-deba84850170"
      },
      "execution_count": 59,
      "outputs": [
        {
          "output_type": "stream",
          "name": "stdout",
          "text": [
            "2 3 4\n",
            "0 0 0\n",
            "0 0 0\n"
          ]
        }
      ]
    },
    {
      "cell_type": "code",
      "source": [
        ""
      ],
      "metadata": {
        "id": "OP7G9ERVDqBv"
      },
      "execution_count": 59,
      "outputs": []
    }
  ]
}