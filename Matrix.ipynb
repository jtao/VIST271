{
  "nbformat": 4,
  "nbformat_minor": 0,
  "metadata": {
    "colab": {
      "name": "Matrix.ipynb",
      "provenance": [],
      "collapsed_sections": [],
      "authorship_tag": "ABX9TyPUaAJXBwA8zKZ8bOV/1toy",
      "include_colab_link": true
    },
    "kernelspec": {
      "name": "python3",
      "display_name": "Python 3"
    },
    "language_info": {
      "name": "python"
    }
  },
  "cells": [
    {
      "cell_type": "markdown",
      "metadata": {
        "id": "view-in-github",
        "colab_type": "text"
      },
      "source": [
        "<a href=\"https://colab.research.google.com/github/jtao/VIST271/blob/main/Matrix.ipynb\" target=\"_parent\"><img src=\"https://colab.research.google.com/assets/colab-badge.svg\" alt=\"Open In Colab\"/></a>"
      ]
    },
    {
      "cell_type": "code",
      "execution_count": 1,
      "metadata": {
        "id": "WaJu6hSQYPkT"
      },
      "outputs": [],
      "source": [
        "#\n",
        "# Example showing affine transforms using matrices and vectors\n",
        "#\n",
        "# VIST 271, Spring 2022\n",
        "# Donald House\n",
        "# Jian Tao\n",
        "#\n",
        "\n",
        "#\n",
        "# 2D vector or point class\n",
        "#\n",
        "from math import cos, sin, radians\n",
        "class Vect2D:\n",
        "    def __init__(self, x = 0, y = 0):\n",
        "        self.x = x\n",
        "        self.y = y\n",
        "    # a formatted output for print()        \n",
        "    def __str__ (self):\n",
        "        return '(%s, %s)'% (self.x, self.y)\n",
        "#\n",
        "# 2D Homogeneous matrix class\n",
        "#\n",
        "class Matrix2DH:\n",
        "    def __init__(self, diag = 1.0):\n",
        "        self.rows = [[diag, 0, 0], \n",
        "                     [0, diag, 0], \n",
        "                     [0, 0, diag]]\n",
        "                     \n",
        "    # a formatted output for print()        \n",
        "    def __str__ (self):\n",
        "        return '\\n'.join([' '.join([\"%7.3f\"%(item) for item in row]) for row in self.rows])\n",
        "\n",
        "    def matmult(self, mat):\n",
        "        newmat = Matrix2DH(0.0)\n",
        "        for row in range(3):\n",
        "            for col in range(3):\n",
        "                for rc in range(3):\n",
        "                    newmat.rows[row][col] += self.rows[row][rc] * mat.rows[rc][col]\n",
        "        return newmat\n",
        "\n",
        "    def vecmult(self, vect):\n",
        "        newvect = Vect2D()\n",
        "        newvect.x = self.rows[0][0] * vect.x + self.rows[0][1] * vect.y + self.rows[0][2]\n",
        "        newvect.y = self.rows[1][0] * vect.x + self.rows[1][1] * vect.y + self.rows[1][2]\n",
        "        return newvect\n",
        "\n",
        "    def rotate(self, theta):\n",
        "        c = cos(radians(theta))\n",
        "        s = sin(radians(theta))\n",
        "        rot = Matrix2DH()\n",
        "        rot.rows = [[c, -s, 0.0], [s, c, 0.0], [0.0, 0.0, 1.0]]\n",
        "        return self.matmult(rot)\n",
        "    \n",
        "    def translate(self, dx):\n",
        "        xlate = Matrix2DH()\n",
        "        xlate.rows[0][2] = dx.x\n",
        "        xlate.rows[1][2] = dx.y\n",
        "        return self.matmult(xlate)"
      ]
    },
    {
      "cell_type": "code",
      "source": [
        "v = Vect2D(2, 2)\n",
        "print (v)"
      ],
      "metadata": {
        "id": "RK0Ng0oQaajP",
        "outputId": "7a515b25-4acd-4e79-ac93-dd45ef5bc015",
        "colab": {
          "base_uri": "https://localhost:8080/"
        }
      },
      "execution_count": 2,
      "outputs": [
        {
          "output_type": "stream",
          "name": "stdout",
          "text": [
            "(2, 2)\n"
          ]
        }
      ]
    },
    {
      "cell_type": "code",
      "source": [
        "I = Matrix2DH()\n",
        "print(I)"
      ],
      "metadata": {
        "id": "I1O3Jsy_cvwn",
        "outputId": "a8cac014-3c23-4487-fe40-0dfec551632c",
        "colab": {
          "base_uri": "https://localhost:8080/"
        }
      },
      "execution_count": 3,
      "outputs": [
        {
          "output_type": "stream",
          "name": "stdout",
          "text": [
            "  1.000   0.000   0.000\n",
            "  0.000   1.000   0.000\n",
            "  0.000   0.000   1.000\n"
          ]
        }
      ]
    },
    {
      "cell_type": "code",
      "source": [
        "r=I.rotate(60)\n",
        "print(r)"
      ],
      "metadata": {
        "id": "GGlACgXUeQLn",
        "outputId": "6162e3a9-c95f-4ca8-cc1d-12aa316e7f56",
        "colab": {
          "base_uri": "https://localhost:8080/"
        }
      },
      "execution_count": 4,
      "outputs": [
        {
          "output_type": "stream",
          "name": "stdout",
          "text": [
            "  0.500  -0.866   0.000\n",
            "  0.866   0.500   0.000\n",
            "  0.000   0.000   1.000\n"
          ]
        }
      ]
    },
    {
      "cell_type": "code",
      "source": [
        "t=r.translate(v)\n",
        "print(t)"
      ],
      "metadata": {
        "id": "TcLK1yPYecNQ",
        "outputId": "7d337223-0f6f-4155-a8c0-4b5763746e90",
        "colab": {
          "base_uri": "https://localhost:8080/"
        }
      },
      "execution_count": 5,
      "outputs": [
        {
          "output_type": "stream",
          "name": "stdout",
          "text": [
            "  0.500  -0.866  -0.732\n",
            "  0.866   0.500   2.732\n",
            "  0.000   0.000   1.000\n"
          ]
        }
      ]
    },
    {
      "cell_type": "code",
      "source": [
        "t=I.translate(v)\n",
        "print(t)"
      ],
      "metadata": {
        "id": "mnClPOSPR0Uu",
        "outputId": "a128570b-c007-45ea-9378-abca54f29d28",
        "colab": {
          "base_uri": "https://localhost:8080/"
        }
      },
      "execution_count": 6,
      "outputs": [
        {
          "output_type": "stream",
          "name": "stdout",
          "text": [
            "  1.000   0.000   2.000\n",
            "  0.000   1.000   2.000\n",
            "  0.000   0.000   1.000\n"
          ]
        }
      ]
    },
    {
      "cell_type": "code",
      "source": [
        "r=t.rotate(60)\n",
        "print(r)"
      ],
      "metadata": {
        "id": "_MuH1KXvR200",
        "outputId": "8f42d4bd-8586-4e00-ac3f-53008462090b",
        "colab": {
          "base_uri": "https://localhost:8080/"
        }
      },
      "execution_count": 7,
      "outputs": [
        {
          "output_type": "stream",
          "name": "stdout",
          "text": [
            "  0.500  -0.866   2.000\n",
            "  0.866   0.500   2.000\n",
            "  0.000   0.000   1.000\n"
          ]
        }
      ]
    },
    {
      "cell_type": "code",
      "source": [
        "# Notice that TR is equivalent to do a translation first and then a rotation.\n",
        "TR = I.rotate(60).translate(v)\n",
        "print (TR)"
      ],
      "metadata": {
        "colab": {
          "base_uri": "https://localhost:8080/"
        },
        "id": "ODQ-QaAHbBAA",
        "outputId": "f4bb1b55-f007-4dde-d7cd-1d5fe5354563"
      },
      "execution_count": 8,
      "outputs": [
        {
          "output_type": "stream",
          "name": "stdout",
          "text": [
            "  0.500  -0.866  -0.732\n",
            "  0.866   0.500   2.732\n",
            "  0.000   0.000   1.000\n"
          ]
        }
      ]
    },
    {
      "cell_type": "code",
      "source": [
        "# Notice that RT is equivalent to do a rotation first and then a translation.\n",
        "RT = I.translate(v).rotate(60)\n",
        "print(RT)"
      ],
      "metadata": {
        "colab": {
          "base_uri": "https://localhost:8080/"
        },
        "id": "2yvfUd75bESS",
        "outputId": "efe845f6-ff9c-4107-8942-6caed1d9a64b"
      },
      "execution_count": 9,
      "outputs": [
        {
          "output_type": "stream",
          "name": "stdout",
          "text": [
            "  0.500  -0.866   2.000\n",
            "  0.866   0.500   2.000\n",
            "  0.000   0.000   1.000\n"
          ]
        }
      ]
    }
  ]
}