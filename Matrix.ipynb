{
  "nbformat": 4,
  "nbformat_minor": 0,
  "metadata": {
    "colab": {
      "name": "Matrix.ipynb",
      "provenance": [],
      "collapsed_sections": [],
      "authorship_tag": "ABX9TyNXHrr/pJtVaONJDEdG7NKU",
      "include_colab_link": true
    },
    "kernelspec": {
      "name": "python3",
      "display_name": "Python 3"
    },
    "language_info": {
      "name": "python"
    }
  },
  "cells": [
    {
      "cell_type": "markdown",
      "metadata": {
        "id": "view-in-github",
        "colab_type": "text"
      },
      "source": [
        "<a href=\"https://colab.research.google.com/github/jtao/VIST271/blob/main/Matrix.ipynb\" target=\"_parent\"><img src=\"https://colab.research.google.com/assets/colab-badge.svg\" alt=\"Open In Colab\"/></a>"
      ]
    },
    {
      "cell_type": "code",
      "execution_count": 47,
      "metadata": {
        "id": "WaJu6hSQYPkT"
      },
      "outputs": [],
      "source": [
        "#\n",
        "# Example showing affine transforms using matrices and vectors\n",
        "#\n",
        "# VIST 271, Spring 2022\n",
        "# Donald House\n",
        "#\n",
        "\n",
        "#\n",
        "# 2D vector or point class\n",
        "#\n",
        "from math import cos, sin, radians\n",
        "class Vect2D:\n",
        "    def __init__(self, x = 0, y = 0):\n",
        "        self.x = x\n",
        "        self.y = y\n",
        "\n",
        "#\n",
        "# 2D Homogeneous matrix class\n",
        "#\n",
        "class Matrix2DH:\n",
        "    def __init__(self, diag = 1.0):\n",
        "        self.rows = [[diag, 0, 0], \n",
        "                     [0, diag, 0], \n",
        "                     [0, 0, diag]]\n",
        "                     \n",
        "    # a formatted output for print()        \n",
        "    def __str__ (self):\n",
        "        return '\\n'.join([' '.join([\"%7.3f\"%(item) for item in row]) for row in self.rows])\n",
        "\n",
        "    def matmult(self, mat):\n",
        "        newmat = Matrix2DH(0.0)\n",
        "        for row in range(3):\n",
        "            for col in range(3):\n",
        "                for rc in range(3):\n",
        "                    newmat.rows[row][col] += self.rows[row][rc] * mat.rows[rc][col]\n",
        "        return newmat\n",
        "\n",
        "    def vecmult(self, vect):\n",
        "        newvect = Pt2D()\n",
        "        newvect.x = self.rows[0][0] * vect.x + self.rows[0][1] * vect.y + self.rows[0][2]\n",
        "        newvect.y = self.rows[1][0] * vect.x + self.rows[1][1] * vect.y + self.rows[1][2]\n",
        "        return newvect\n",
        "\n",
        "    def rotate(self, theta):\n",
        "        c = cos(radians(theta))\n",
        "        s = sin(radians(theta))\n",
        "        rot = Matrix2DH()\n",
        "        rot.rows = [[c, -s, 0.0], [s, c, 0.0], [0.0, 0.0, 1.0]]\n",
        "        return self.matmult(rot)\n",
        "    \n",
        "    def translate(self, dx):\n",
        "        xlate = Matrix2DH()\n",
        "        xlate.rows[0][2] = dx.x\n",
        "        xlate.rows[1][2] = dx.y\n",
        "        return self.matmult(xlate)"
      ]
    },
    {
      "cell_type": "code",
      "source": [
        "v = Vect2D()"
      ],
      "metadata": {
        "id": "Y0d-1lEuaOOb"
      },
      "execution_count": 48,
      "outputs": []
    },
    {
      "cell_type": "code",
      "source": [
        "print(v.x, v.y)"
      ],
      "metadata": {
        "colab": {
          "base_uri": "https://localhost:8080/"
        },
        "id": "Mzkonk4ndpiO",
        "outputId": "4f47eefb-217b-48bf-d267-05492cd766d8"
      },
      "execution_count": 52,
      "outputs": [
        {
          "output_type": "stream",
          "name": "stdout",
          "text": [
            "3 7\n"
          ]
        }
      ]
    },
    {
      "cell_type": "code",
      "source": [
        "v = Vect2D(3, 7)"
      ],
      "metadata": {
        "id": "RK0Ng0oQaajP"
      },
      "execution_count": 53,
      "outputs": []
    },
    {
      "cell_type": "code",
      "source": [
        "m = Matrix2DH(0.0)"
      ],
      "metadata": {
        "id": "NiQSiOAocqH4"
      },
      "execution_count": 54,
      "outputs": []
    },
    {
      "cell_type": "code",
      "source": [
        "print (m)"
      ],
      "metadata": {
        "colab": {
          "base_uri": "https://localhost:8080/"
        },
        "id": "YVpFysUAd676",
        "outputId": "c93d6b7a-78ce-40e8-9d99-095327a09581"
      },
      "execution_count": 55,
      "outputs": [
        {
          "output_type": "stream",
          "name": "stdout",
          "text": [
            "  0.000   0.000   0.000\n",
            "  0.000   0.000   0.000\n",
            "  0.000   0.000   0.000\n"
          ]
        }
      ]
    },
    {
      "cell_type": "code",
      "source": [
        "m = Matrix2DH()\n",
        "print(m)"
      ],
      "metadata": {
        "colab": {
          "base_uri": "https://localhost:8080/"
        },
        "id": "I1O3Jsy_cvwn",
        "outputId": "052dd976-c8b1-4a6e-f252-37bde9212681"
      },
      "execution_count": 56,
      "outputs": [
        {
          "output_type": "stream",
          "name": "stdout",
          "text": [
            "  1.000   0.000   0.000\n",
            "  0.000   1.000   0.000\n",
            "  0.000   0.000   1.000\n"
          ]
        }
      ]
    },
    {
      "cell_type": "code",
      "source": [
        "m.rotate(60)\n",
        "print(m.rotate(60))"
      ],
      "metadata": {
        "colab": {
          "base_uri": "https://localhost:8080/"
        },
        "id": "tEyjaIQ5cydI",
        "outputId": "81b18288-2874-40d1-a3f3-0b8c8928d6f4"
      },
      "execution_count": 59,
      "outputs": [
        {
          "output_type": "stream",
          "name": "stdout",
          "text": [
            "  0.500  -0.866   0.000\n",
            "  0.866   0.500   0.000\n",
            "  0.000   0.000   1.000\n"
          ]
        }
      ]
    },
    {
      "cell_type": "code",
      "source": [
        "t = m.translate(v)\n",
        "print(t)"
      ],
      "metadata": {
        "colab": {
          "base_uri": "https://localhost:8080/"
        },
        "id": "GGlACgXUeQLn",
        "outputId": "bb8bf303-624c-4bfa-c487-52f74314ac48"
      },
      "execution_count": 61,
      "outputs": [
        {
          "output_type": "stream",
          "name": "stdout",
          "text": [
            "  1.000   0.000   3.000\n",
            "  0.000   1.000   7.000\n",
            "  0.000   0.000   1.000\n"
          ]
        }
      ]
    },
    {
      "cell_type": "code",
      "source": [
        "negv = Vect2D(-3, -7)\n",
        "m1 = Matrix2DH()\n",
        "print (m1)"
      ],
      "metadata": {
        "colab": {
          "base_uri": "https://localhost:8080/"
        },
        "id": "4mj26W6teXJG",
        "outputId": "5d61accc-8a08-4dee-d069-51c046927468"
      },
      "execution_count": 62,
      "outputs": [
        {
          "output_type": "stream",
          "name": "stdout",
          "text": [
            "  1.000   0.000   0.000\n",
            "  0.000   1.000   0.000\n",
            "  0.000   0.000   1.000\n"
          ]
        }
      ]
    },
    {
      "cell_type": "code",
      "source": [
        "m2 = m1.translate(negv)\n",
        "print; print(m2)"
      ],
      "metadata": {
        "colab": {
          "base_uri": "https://localhost:8080/"
        },
        "id": "TcLK1yPYecNQ",
        "outputId": "dd1889e7-5293-45c2-e2b0-c4338cb387f6"
      },
      "execution_count": 63,
      "outputs": [
        {
          "output_type": "stream",
          "name": "stdout",
          "text": [
            "  1.000   0.000  -3.000\n",
            "  0.000   1.000  -7.000\n",
            "  0.000   0.000   1.000\n"
          ]
        }
      ]
    },
    {
      "cell_type": "code",
      "source": [
        "m3 = m2.rotate(30)\n",
        "print; print(m3)"
      ],
      "metadata": {
        "colab": {
          "base_uri": "https://localhost:8080/"
        },
        "id": "FiibZWb-efv2",
        "outputId": "b7b94847-eb6c-41f4-8e96-03924c8ec658"
      },
      "execution_count": 65,
      "outputs": [
        {
          "output_type": "stream",
          "name": "stdout",
          "text": [
            "  0.866  -0.500  -3.000\n",
            "  0.500   0.866  -7.000\n",
            "  0.000   0.000   1.000\n"
          ]
        }
      ]
    },
    {
      "cell_type": "code",
      "source": [
        "m4 = m3.translate(v)\n",
        "print; print(m4)"
      ],
      "metadata": {
        "colab": {
          "base_uri": "https://localhost:8080/"
        },
        "id": "zQzrEEO1aVod",
        "outputId": "8b077547-2c52-42b4-ba2f-3b3ae3c08b3b"
      },
      "execution_count": 66,
      "outputs": [
        {
          "output_type": "stream",
          "name": "stdout",
          "text": [
            "  0.866  -0.500  -3.902\n",
            "  0.500   0.866   0.562\n",
            "  0.000   0.000   1.000\n"
          ]
        }
      ]
    }
  ]
}