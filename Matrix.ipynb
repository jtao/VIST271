{
  "nbformat": 4,
  "nbformat_minor": 0,
  "metadata": {
    "colab": {
      "name": "Matrix.ipynb",
      "provenance": [],
      "collapsed_sections": [],
      "authorship_tag": "ABX9TyM+dF+hfQXfSJz6CZMwnlbR",
      "include_colab_link": true
    },
    "kernelspec": {
      "name": "python3",
      "display_name": "Python 3"
    },
    "language_info": {
      "name": "python"
    }
  },
  "cells": [
    {
      "cell_type": "markdown",
      "metadata": {
        "id": "view-in-github",
        "colab_type": "text"
      },
      "source": [
        "<a href=\"https://colab.research.google.com/github/jtao/VIST271/blob/main/Matrix.ipynb\" target=\"_parent\"><img src=\"https://colab.research.google.com/assets/colab-badge.svg\" alt=\"Open In Colab\"/></a>"
      ]
    },
    {
      "cell_type": "code",
      "execution_count": null,
      "metadata": {
        "id": "WaJu6hSQYPkT"
      },
      "outputs": [],
      "source": [
        "#\n",
        "# Example showing affine transforms using matrices and vectors\n",
        "#\n",
        "# VIST 271, Spring 2022\n",
        "# Donald House\n",
        "#\n",
        "\n",
        "#\n",
        "# 2D vector or point class\n",
        "#\n",
        "from math import cos, sin, radians\n",
        "class Vect2D:\n",
        "    def __init__(self, x = 0, y = 0):\n",
        "        self.x = x\n",
        "        self.y = y\n",
        "\n",
        "#\n",
        "# 2D Homogeneous matrix class\n",
        "#\n",
        "class Matrix2DH:\n",
        "    def __init__(self, diag = 1.0):\n",
        "        self.rows = [[diag, 0, 0], \n",
        "                     [0, diag, 0], \n",
        "                     [0, 0, diag]]\n",
        "                     \n",
        "    # a formatted output for print()        \n",
        "    def __str__ (self):\n",
        "        return '\\n'.join([' '.join([\"%7.3f\"%(item) for item in row]) for row in self.rows])\n",
        "\n",
        "    def matmult(self, mat):\n",
        "        newmat = Matrix2DH(0.0)\n",
        "        for row in range(3):\n",
        "            for col in range(3):\n",
        "                for rc in range(3):\n",
        "                    newmat.rows[row][col] += mat.rows[row][rc] * self.rows[rc][col]\n",
        "        return newmat\n",
        "\n",
        "    def vecmult(self, vect):\n",
        "        newvect = Pt2D()\n",
        "        newvect.x = self.rows[0][0] * vect.x + self.rows[0][1] * vect.y + self.rows[0][2]\n",
        "        newvect.y = self.rows[1][0] * vect.x + self.rows[1][1] * vect.y + self.rows[1][2]\n",
        "        return newvect\n",
        "\n",
        "    def rotate(self, theta):\n",
        "        c = cos(radians(theta))\n",
        "        s = sin(radians(theta))\n",
        "        rot = Matrix2DH()\n",
        "        rot.rows = [[c, -s, 0.0], [s, c, 0.0], [0.0, 0.0, 1.0]]\n",
        "        return self.matmult(rot)\n",
        "    \n",
        "    def translate(self, dx):\n",
        "        xlate = Matrix2DH()\n",
        "        xlate.rows[0][2] = dx.x\n",
        "        xlate.rows[1][2] = dx.y\n",
        "        return self.matmult(xlate)"
      ]
    },
    {
      "cell_type": "code",
      "source": [
        "def rotate(self, theta):\n",
        "    c = cos(radians(theta))\n",
        "    s = sin(radians(theta))\n",
        "    rot = Matrix2DH()\n",
        "    rot.rows = [[c,  -s,   0.0], \n",
        "                [s,   c,   0.0], \n",
        "                [0.0, 0.0, 1.0]]\n",
        "    return self.matmult(rot)\n"
      ],
      "metadata": {
        "id": "rbRWDPfdLs1m"
      },
      "execution_count": null,
      "outputs": []
    },
    {
      "cell_type": "code",
      "source": [
        "v = Vect2D(2, 2)\n",
        "print(v.x, v.y)"
      ],
      "metadata": {
        "id": "RK0Ng0oQaajP"
      },
      "execution_count": null,
      "outputs": []
    },
    {
      "cell_type": "code",
      "source": [
        "m = Matrix2DH()\n",
        "print(m)"
      ],
      "metadata": {
        "id": "I1O3Jsy_cvwn"
      },
      "execution_count": null,
      "outputs": []
    },
    {
      "cell_type": "code",
      "source": [
        "r=m.rotate(60)\n",
        "print(r)"
      ],
      "metadata": {
        "id": "GGlACgXUeQLn"
      },
      "execution_count": null,
      "outputs": []
    },
    {
      "cell_type": "code",
      "source": [
        "t=r.translate(v)\n",
        "print(t)"
      ],
      "metadata": {
        "id": "TcLK1yPYecNQ"
      },
      "execution_count": null,
      "outputs": []
    },
    {
      "cell_type": "code",
      "source": [
        "t=m.translate(v)\n",
        "print(t)"
      ],
      "metadata": {
        "id": "mnClPOSPR0Uu"
      },
      "execution_count": null,
      "outputs": []
    },
    {
      "cell_type": "code",
      "source": [
        "r=t.rotate(60)\n",
        "print(r)"
      ],
      "metadata": {
        "id": "_MuH1KXvR200"
      },
      "execution_count": null,
      "outputs": []
    }
  ]
}