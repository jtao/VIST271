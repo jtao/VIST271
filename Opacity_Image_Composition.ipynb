{
  "nbformat": 4,
  "nbformat_minor": 0,
  "metadata": {
    "colab": {
      "name": "Opacity_Image_Composition.ipynb",
      "provenance": [],
      "collapsed_sections": [],
      "include_colab_link": true
    },
    "kernelspec": {
      "name": "python3",
      "display_name": "Python 3"
    },
    "language_info": {
      "name": "python"
    }
  },
  "cells": [
    {
      "cell_type": "markdown",
      "metadata": {
        "id": "view-in-github",
        "colab_type": "text"
      },
      "source": [
        "<a href=\"https://colab.research.google.com/github/jtao/VIST271/blob/main/Opacity_Image_Composition.ipynb\" target=\"_parent\"><img src=\"https://colab.research.google.com/assets/colab-badge.svg\" alt=\"Open In Colab\"/></a>"
      ]
    },
    {
      "cell_type": "markdown",
      "source": [
        "# Opacity and Image Composition\n",
        "\n",
        "Jian Tao, Texas A&M University\n",
        "\n",
        "Feb 19, 2022"
      ],
      "metadata": {
        "id": "NMWzxLu8x_GW"
      }
    },
    {
      "cell_type": "code",
      "source": [
        "vizlogo_path = \"https://github.com/jtao/VIST271/raw/main/images/viz_logo.png\"\n",
        "vizlogo = \"viz_logo.png\""
      ],
      "metadata": {
        "id": "x_awOit5x2CC"
      },
      "execution_count": 1,
      "outputs": []
    },
    {
      "cell_type": "markdown",
      "source": [
        "# Read Image\n",
        "\n",
        "We first download an image from a URL and then open it with the Image.open function in PIL."
      ],
      "metadata": {
        "id": "U3gZ1zqRyXmp"
      }
    },
    {
      "cell_type": "code",
      "source": [
        "from PIL import Image, ImageFilter, ImageDraw, ImageFont, ImageOps\n",
        "import numpy as np"
      ],
      "metadata": {
        "id": "NSGF5ASHxI0i"
      },
      "execution_count": 2,
      "outputs": []
    },
    {
      "cell_type": "code",
      "source": [
        "import urllib.request\n",
        "from PIL import Image\n",
        "urllib.request.urlretrieve(vizlogo_path, vizlogo)\n",
        "viz = Image.open(vizlogo)\n",
        "viz"
      ],
      "metadata": {
        "id": "eo7aIDv6ydQa",
        "colab": {
          "base_uri": "https://localhost:8080/",
          "height": 261
        },
        "outputId": "78f5d1f4-5fce-476a-ba00-004d36956301"
      },
      "execution_count": 3,
      "outputs": [
        {
          "output_type": "execute_result",
          "data": {
            "image/png": "[encoded data removed]",
            "text/plain": [
              "<PIL.PngImagePlugin.PngImageFile image mode=RGBA size=300x244 at 0x7FA4F6A2CC50>"
            ]
          },
          "metadata": {},
          "execution_count": 3
        }
      ]
    },
    {
      "cell_type": "code",
      "source": [
        "viz.size"
      ],
      "metadata": {
        "id": "Gu3VMqd9ynfJ",
        "colab": {
          "base_uri": "https://localhost:8080/"
        },
        "outputId": "a3274c50-9b72-43f5-aa46-e43e9c5af48d"
      },
      "execution_count": 4,
      "outputs": [
        {
          "output_type": "execute_result",
          "data": {
            "text/plain": [
              "(300, 244)"
            ]
          },
          "metadata": {},
          "execution_count": 4
        }
      ]
    },
    {
      "cell_type": "markdown",
      "source": [
        "PNG images usually have four channels. Three color channels for red, green and blue, and the fourth channel is for transparency."
      ],
      "metadata": {
        "id": "wNnEp3BrzmWX"
      }
    },
    {
      "cell_type": "code",
      "source": [
        "viz.mode"
      ],
      "metadata": {
        "id": "eKTGklOpy1is",
        "colab": {
          "base_uri": "https://localhost:8080/",
          "height": 44
        },
        "outputId": "9f09fe4d-d90e-452c-e5d7-0e6d4262b58d"
      },
      "execution_count": 5,
      "outputs": [
        {
          "output_type": "execute_result",
          "data": {
            "application/vnd.google.colaboratory.intrinsic+json": {
              "type": "string"
            },
            "text/plain": [
              "'RGBA'"
            ]
          },
          "metadata": {},
          "execution_count": 5
        }
      ]
    },
    {
      "cell_type": "code",
      "source": [
        "viz.info"
      ],
      "metadata": {
        "id": "7etQLSmIy2n8",
        "colab": {
          "base_uri": "https://localhost:8080/"
        },
        "outputId": "e36bf50b-adb2-4cfb-9e4d-63a047d687b5"
      },
      "execution_count": 6,
      "outputs": [
        {
          "output_type": "execute_result",
          "data": {
            "text/plain": [
              "{'dpi': (96, 96)}"
            ]
          },
          "metadata": {},
          "execution_count": 6
        }
      ]
    },
    {
      "cell_type": "markdown",
      "source": [
        "Let's convert it into a grayscale image so that we only need to deal with one channel."
      ],
      "metadata": {
        "id": "qw7oqQiz3qFC"
      }
    },
    {
      "cell_type": "markdown",
      "source": [
        "Let's make the image very small so that we could print out the grayscale values of each pixel and compare those against the original image."
      ],
      "metadata": {
        "id": "46cezJki38Gj"
      }
    }
  ]
}