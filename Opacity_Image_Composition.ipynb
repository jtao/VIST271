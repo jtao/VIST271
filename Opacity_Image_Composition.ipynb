{
  "nbformat": 4,
  "nbformat_minor": 0,
  "metadata": {
    "colab": {
      "name": "Opacity_Image_Composition.ipynb",
      "provenance": [],
      "collapsed_sections": [],
      "include_colab_link": true
    },
    "kernelspec": {
      "name": "python3",
      "display_name": "Python 3"
    },
    "language_info": {
      "name": "python"
    }
  },
  "cells": [
    {
      "cell_type": "markdown",
      "metadata": {
        "id": "view-in-github",
        "colab_type": "text"
      },
      "source": [
        "<a href=\"https://colab.research.google.com/github/jtao/VIST271/blob/main/Opacity_Image_Composition.ipynb\" target=\"_parent\"><img src=\"https://colab.research.google.com/assets/colab-badge.svg\" alt=\"Open In Colab\"/></a>"
      ]
    },
    {
      "cell_type": "markdown",
      "source": [
        "# Opacity and Image Composition\n",
        "\n",
        "Jian Tao, Texas A&M University\n",
        "\n",
        "Feb 19, 2022"
      ],
      "metadata": {
        "id": "NMWzxLu8x_GW"
      }
    },
    {
      "cell_type": "code",
      "source": [
        "vizlogo_path = \"https://github.com/jtao/VIST271/raw/main/images/viz_logo.png\"\n",
        "vizlogo = \"viz_logo.png\""
      ],
      "metadata": {
        "id": "x_awOit5x2CC"
      },
      "execution_count": null,
      "outputs": []
    },
    {
      "cell_type": "markdown",
      "source": [
        "# Read Image\n",
        "\n",
        "We first download an image from a URL and then open it with the Image.open function in PIL."
      ],
      "metadata": {
        "id": "U3gZ1zqRyXmp"
      }
    },
    {
      "cell_type": "code",
      "source": [
        "from PIL import Image, ImageFilter, ImageDraw, ImageFont, ImageOps\n",
        "import numpy as np"
      ],
      "metadata": {
        "id": "NSGF5ASHxI0i"
      },
      "execution_count": null,
      "outputs": []
    },
    {
      "cell_type": "code",
      "source": [
        "import urllib.request\n",
        "from PIL import Image\n",
        "urllib.request.urlretrieve(vizlogo_path, vizlogo)\n",
        "viz = Image.open(vizlogo)\n",
        "viz"
      ],
      "metadata": {
        "id": "eo7aIDv6ydQa"
      },
      "execution_count": null,
      "outputs": []
    },
    {
      "cell_type": "code",
      "source": [
        "viz.size"
      ],
      "metadata": {
        "id": "Gu3VMqd9ynfJ"
      },
      "execution_count": null,
      "outputs": []
    },
    {
      "cell_type": "markdown",
      "source": [
        "PNG images usually have four channels. Three color channels for red, green and blue, and the fourth channel is for transparency."
      ],
      "metadata": {
        "id": "wNnEp3BrzmWX"
      }
    },
    {
      "cell_type": "code",
      "source": [
        "viz.mode"
      ],
      "metadata": {
        "id": "eKTGklOpy1is"
      },
      "execution_count": null,
      "outputs": []
    },
    {
      "cell_type": "code",
      "source": [
        "viz.info"
      ],
      "metadata": {
        "id": "7etQLSmIy2n8"
      },
      "execution_count": null,
      "outputs": []
    },
    {
      "cell_type": "code",
      "source": [
        "from PIL import ImageEnhance\n",
        "def change_opacity(image, opacity):\n",
        "  if opacity < 0 and opacity > 1:\n",
        "    print (\"opacity value must be between 0 and 1!\")\n",
        "    return\n",
        "  if image.mode != 'RGBA':\n",
        "      image = image.convert('RGBA')\n",
        "  else:\n",
        "      image = image.copy()\n",
        "  alpha = image.split()[3]\n",
        "  alpha = ImageEnhance.Brightness(alpha).enhance(opacity)\n",
        "  image.putalpha(alpha)\n",
        "  return image"
      ],
      "metadata": {
        "id": "Csf320mIOulv"
      },
      "execution_count": null,
      "outputs": []
    },
    {
      "cell_type": "code",
      "source": [
        "def image_grid(imgs, rows, cols):\n",
        "  if len(imgs) != rows*cols:\n",
        "    print (\"number of images must be equal to rows * cols!\")\n",
        "    return\n",
        "  w, h = imgs[0].size\n",
        "  grid = Image.new('RGBA', size=(cols*w, rows*h))\n",
        "  grid_w, grid_h = grid.size\n",
        "    \n",
        "  for i, img in enumerate(imgs):\n",
        "    grid.paste(img, box=(i%cols*w, i//cols*h))\n",
        "  return grid"
      ],
      "metadata": {
        "id": "wZ-RsI4rPTFk"
      },
      "execution_count": null,
      "outputs": []
    },
    {
      "cell_type": "code",
      "source": [
        "myimages = []\n",
        "for i in range(9):\n",
        "  opacity = i/8\n",
        "  myimages.append(change_opacity (viz, opacity))\n",
        "image_grid(myimages, 3, 3)"
      ],
      "metadata": {
        "id": "jkvKRlCqQNRm"
      },
      "execution_count": null,
      "outputs": []
    },
    {
      "cell_type": "code",
      "source": [
        "1/9"
      ],
      "metadata": {
        "id": "iDoRNVXxPWy6"
      },
      "execution_count": null,
      "outputs": []
    }
  ]
}