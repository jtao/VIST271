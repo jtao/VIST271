{
  "nbformat": 4,
  "nbformat_minor": 0,
  "metadata": {
    "colab": {
      "name": "mc_pi.ipynb",
      "provenance": []
    },
    "kernelspec": {
      "name": "python3",
      "display_name": "Python 3"
    },
    "language_info": {
      "name": "python"
    }
  },
  "cells": [
    {
      "cell_type": "code",
      "execution_count": null,
      "metadata": {
        "id": "3Y3ACL9cwN3y"
      },
      "outputs": [],
      "source": [
        "import random\n",
        "\n",
        "inside = 0\n",
        "nsamples = 1000\n",
        "\n",
        "for i in range(nsamples):\n",
        "    x = random.random();\n",
        "    y = random.random();\n",
        "    if (x*x)+(y*y)<1:\n",
        "        inside += 1\n",
        "\n",
        "pi = (4.0 * inside)/nsamples\n",
        "print (\"Computed value of pi is\",pi)"
      ]
    },
    {
      "cell_type": "code",
      "source": [
        ""
      ],
      "metadata": {
        "id": "6v3vs3k7wO7P"
      },
      "execution_count": null,
      "outputs": []
    }
  ]
}